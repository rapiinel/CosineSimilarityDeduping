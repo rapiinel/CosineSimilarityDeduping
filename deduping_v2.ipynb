{
 "cells": [
  {
   "cell_type": "code",
   "execution_count": 7,
   "metadata": {},
   "outputs": [],
   "source": [
    "import pandas as pd\n",
    "import numpy as np\n",
    "from scipy.sparse import csr_matrix\n",
    "from sparse_dot_topn import awesome_cossim_topn \n",
    "import re\n",
    "\n",
    "from sklearn.feature_extraction.text import TfidfVectorizer\n",
    "from deduping_module import deduping_class"
   ]
  },
  {
   "cell_type": "code",
   "execution_count": 2,
   "metadata": {},
   "outputs": [],
   "source": [
    "link = r'C:\\Users\\USER\\Documents\\LM_project\\SAL-230_Revisit validity'"
   ]
  },
  {
   "cell_type": "code",
   "execution_count": 3,
   "metadata": {},
   "outputs": [],
   "source": [
    "gt = pd.read_csv(link + '\\\\raw\\sf_export.csv', encoding='latin-1')\n",
    "nm = pd.read_csv(link + '\\\\raw\\pennsylvania-00001.csv', encoding='latin-1')"
   ]
  },
  {
   "cell_type": "code",
   "execution_count": 4,
   "metadata": {},
   "outputs": [],
   "source": [
    "test = dm.deduping_class(gt,nm)"
   ]
  },
  {
   "cell_type": "code",
   "execution_count": 6,
   "metadata": {},
   "outputs": [
    {
     "data": {
      "text/html": [
       "<div>\n",
       "<style scoped>\n",
       "    .dataframe tbody tr th:only-of-type {\n",
       "        vertical-align: middle;\n",
       "    }\n",
       "\n",
       "    .dataframe tbody tr th {\n",
       "        vertical-align: top;\n",
       "    }\n",
       "\n",
       "    .dataframe thead th {\n",
       "        text-align: right;\n",
       "    }\n",
       "</style>\n",
       "<table border=\"1\" class=\"dataframe\">\n",
       "  <thead>\n",
       "    <tr style=\"text-align: right;\">\n",
       "      <th></th>\n",
       "      <th>Salesforce Account Id</th>\n",
       "      <th>Salesforce Contact Id</th>\n",
       "      <th>Account Name</th>\n",
       "      <th>First Name</th>\n",
       "      <th>Last Name</th>\n",
       "      <th>Email</th>\n",
       "      <th>Phone</th>\n",
       "      <th>Zip Code 1</th>\n",
       "      <th>County 1</th>\n",
       "      <th>State 1</th>\n",
       "      <th>Quarantine</th>\n",
       "    </tr>\n",
       "  </thead>\n",
       "  <tbody>\n",
       "    <tr>\n",
       "      <th>0</th>\n",
       "      <td>0014y00002LvzGCAAZ</td>\n",
       "      <td>0034y00002QqcZtAAJ</td>\n",
       "      <td>Melcher Law</td>\n",
       "      <td>Doug</td>\n",
       "      <td>Melcher</td>\n",
       "      <td>NaN</td>\n",
       "      <td>(617) 485-0859</td>\n",
       "      <td>NaN</td>\n",
       "      <td>NaN</td>\n",
       "      <td>NaN</td>\n",
       "      <td>0.0</td>\n",
       "    </tr>\n",
       "    <tr>\n",
       "      <th>1</th>\n",
       "      <td>0014y00002aVU9TAAW</td>\n",
       "      <td>0034y00002ZjWOiAAN</td>\n",
       "      <td>Kevin Barnett</td>\n",
       "      <td>Kevin</td>\n",
       "      <td>Barnett</td>\n",
       "      <td>kb@barnettfalls.com</td>\n",
       "      <td>NaN</td>\n",
       "      <td>NaN</td>\n",
       "      <td>NaN</td>\n",
       "      <td>NC</td>\n",
       "      <td>0.0</td>\n",
       "    </tr>\n",
       "    <tr>\n",
       "      <th>2</th>\n",
       "      <td>0014y00002aVjVkAAK</td>\n",
       "      <td>0034y00002ZjlorAAB</td>\n",
       "      <td>Kellie Jenkins Hohenshelt</td>\n",
       "      <td>Kellie Jenkins</td>\n",
       "      <td>Hohenshelt</td>\n",
       "      <td>NaN</td>\n",
       "      <td>(214) 587-7044</td>\n",
       "      <td>NaN</td>\n",
       "      <td>NaN</td>\n",
       "      <td>TX</td>\n",
       "      <td>0.0</td>\n",
       "    </tr>\n",
       "    <tr>\n",
       "      <th>3</th>\n",
       "      <td>0014y00002aVbeeAAC</td>\n",
       "      <td>0034y00002ZjdxQAAR</td>\n",
       "      <td>Jackalynne Fletcher</td>\n",
       "      <td>Jackalynne</td>\n",
       "      <td>Fletcher</td>\n",
       "      <td>NaN</td>\n",
       "      <td>(614) 487-8283</td>\n",
       "      <td>NaN</td>\n",
       "      <td>NaN</td>\n",
       "      <td>OH</td>\n",
       "      <td>0.0</td>\n",
       "    </tr>\n",
       "    <tr>\n",
       "      <th>4</th>\n",
       "      <td>0014y00002aVn5XAAS</td>\n",
       "      <td>0034y00002ZjpOtAAJ</td>\n",
       "      <td>Timothy Blair</td>\n",
       "      <td>Timothy</td>\n",
       "      <td>Blair</td>\n",
       "      <td>NaN</td>\n",
       "      <td>(713) 818-8474</td>\n",
       "      <td>NaN</td>\n",
       "      <td>NaN</td>\n",
       "      <td>TX</td>\n",
       "      <td>0.0</td>\n",
       "    </tr>\n",
       "    <tr>\n",
       "      <th>...</th>\n",
       "      <td>...</td>\n",
       "      <td>...</td>\n",
       "      <td>...</td>\n",
       "      <td>...</td>\n",
       "      <td>...</td>\n",
       "      <td>...</td>\n",
       "      <td>...</td>\n",
       "      <td>...</td>\n",
       "      <td>...</td>\n",
       "      <td>...</td>\n",
       "      <td>...</td>\n",
       "    </tr>\n",
       "    <tr>\n",
       "      <th>1537649</th>\n",
       "      <td>All contacts and account</td>\n",
       "      <td>NaN</td>\n",
       "      <td>NaN</td>\n",
       "      <td>NaN</td>\n",
       "      <td>NaN</td>\n",
       "      <td>NaN</td>\n",
       "      <td>NaN</td>\n",
       "      <td>NaN</td>\n",
       "      <td>NaN</td>\n",
       "      <td>NaN</td>\n",
       "      <td>NaN</td>\n",
       "    </tr>\n",
       "    <tr>\n",
       "      <th>1537650</th>\n",
       "      <td>Copyright (c) 2000-2022 salesforce.com, inc. A...</td>\n",
       "      <td>NaN</td>\n",
       "      <td>NaN</td>\n",
       "      <td>NaN</td>\n",
       "      <td>NaN</td>\n",
       "      <td>NaN</td>\n",
       "      <td>NaN</td>\n",
       "      <td>NaN</td>\n",
       "      <td>NaN</td>\n",
       "      <td>NaN</td>\n",
       "      <td>NaN</td>\n",
       "    </tr>\n",
       "    <tr>\n",
       "      <th>1537651</th>\n",
       "      <td>Confidential Information - Do Not Distribute</td>\n",
       "      <td>NaN</td>\n",
       "      <td>NaN</td>\n",
       "      <td>NaN</td>\n",
       "      <td>NaN</td>\n",
       "      <td>NaN</td>\n",
       "      <td>NaN</td>\n",
       "      <td>NaN</td>\n",
       "      <td>NaN</td>\n",
       "      <td>NaN</td>\n",
       "      <td>NaN</td>\n",
       "    </tr>\n",
       "    <tr>\n",
       "      <th>1537652</th>\n",
       "      <td>Generated By:  Raffie Navaluna  8/30/2022 9:22 AM</td>\n",
       "      <td>NaN</td>\n",
       "      <td>NaN</td>\n",
       "      <td>NaN</td>\n",
       "      <td>NaN</td>\n",
       "      <td>NaN</td>\n",
       "      <td>NaN</td>\n",
       "      <td>NaN</td>\n",
       "      <td>NaN</td>\n",
       "      <td>NaN</td>\n",
       "      <td>NaN</td>\n",
       "    </tr>\n",
       "    <tr>\n",
       "      <th>1537653</th>\n",
       "      <td>LegalMatch.com</td>\n",
       "      <td>NaN</td>\n",
       "      <td>NaN</td>\n",
       "      <td>NaN</td>\n",
       "      <td>NaN</td>\n",
       "      <td>NaN</td>\n",
       "      <td>NaN</td>\n",
       "      <td>NaN</td>\n",
       "      <td>NaN</td>\n",
       "      <td>NaN</td>\n",
       "      <td>NaN</td>\n",
       "    </tr>\n",
       "  </tbody>\n",
       "</table>\n",
       "<p>1537654 rows × 11 columns</p>\n",
       "</div>"
      ],
      "text/plain": [
       "                                     Salesforce Account Id  \\\n",
       "0                                       0014y00002LvzGCAAZ   \n",
       "1                                       0014y00002aVU9TAAW   \n",
       "2                                       0014y00002aVjVkAAK   \n",
       "3                                       0014y00002aVbeeAAC   \n",
       "4                                       0014y00002aVn5XAAS   \n",
       "...                                                    ...   \n",
       "1537649                           All contacts and account   \n",
       "1537650  Copyright (c) 2000-2022 salesforce.com, inc. A...   \n",
       "1537651       Confidential Information - Do Not Distribute   \n",
       "1537652  Generated By:  Raffie Navaluna  8/30/2022 9:22 AM   \n",
       "1537653                                     LegalMatch.com   \n",
       "\n",
       "        Salesforce Contact Id               Account Name      First Name  \\\n",
       "0          0034y00002QqcZtAAJ                Melcher Law            Doug   \n",
       "1          0034y00002ZjWOiAAN              Kevin Barnett           Kevin   \n",
       "2          0034y00002ZjlorAAB  Kellie Jenkins Hohenshelt  Kellie Jenkins   \n",
       "3          0034y00002ZjdxQAAR        Jackalynne Fletcher      Jackalynne   \n",
       "4          0034y00002ZjpOtAAJ              Timothy Blair         Timothy   \n",
       "...                       ...                        ...             ...   \n",
       "1537649                   NaN                        NaN             NaN   \n",
       "1537650                   NaN                        NaN             NaN   \n",
       "1537651                   NaN                        NaN             NaN   \n",
       "1537652                   NaN                        NaN             NaN   \n",
       "1537653                   NaN                        NaN             NaN   \n",
       "\n",
       "          Last Name                Email           Phone Zip Code 1 County 1  \\\n",
       "0           Melcher                  NaN  (617) 485-0859        NaN      NaN   \n",
       "1           Barnett  kb@barnettfalls.com             NaN        NaN      NaN   \n",
       "2        Hohenshelt                  NaN  (214) 587-7044        NaN      NaN   \n",
       "3          Fletcher                  NaN  (614) 487-8283        NaN      NaN   \n",
       "4             Blair                  NaN  (713) 818-8474        NaN      NaN   \n",
       "...             ...                  ...             ...        ...      ...   \n",
       "1537649         NaN                  NaN             NaN        NaN      NaN   \n",
       "1537650         NaN                  NaN             NaN        NaN      NaN   \n",
       "1537651         NaN                  NaN             NaN        NaN      NaN   \n",
       "1537652         NaN                  NaN             NaN        NaN      NaN   \n",
       "1537653         NaN                  NaN             NaN        NaN      NaN   \n",
       "\n",
       "        State 1  Quarantine  \n",
       "0           NaN         0.0  \n",
       "1            NC         0.0  \n",
       "2            TX         0.0  \n",
       "3            OH         0.0  \n",
       "4            TX         0.0  \n",
       "...         ...         ...  \n",
       "1537649     NaN         NaN  \n",
       "1537650     NaN         NaN  \n",
       "1537651     NaN         NaN  \n",
       "1537652     NaN         NaN  \n",
       "1537653     NaN         NaN  \n",
       "\n",
       "[1537654 rows x 11 columns]"
      ]
     },
     "execution_count": 6,
     "metadata": {},
     "output_type": "execute_result"
    }
   ],
   "source": [
    "test.ground_truth"
   ]
  },
  {
   "cell_type": "code",
   "execution_count": null,
   "metadata": {},
   "outputs": [],
   "source": []
  },
  {
   "cell_type": "code",
   "execution_count": null,
   "metadata": {},
   "outputs": [],
   "source": []
  },
  {
   "cell_type": "code",
   "execution_count": null,
   "metadata": {},
   "outputs": [],
   "source": [
    "gt = pd.read_csv('raw/sf_export.csv')\n",
    "gt.dropna(subset=['Salesforce Contact Id'], inplace= True)\n",
    "gt.drop_duplicates(subset=['Salesforce Account Id'], inplace= True)\n",
    "gt['Key Value'] = gt.apply(lambda x: (str(x['Account Name'])+ ' ' + str(x['State 1'])).lower(), axis= 1)\n",
    "gt.reset_index(drop=True, inplace=True)"
   ]
  },
  {
   "cell_type": "code",
   "execution_count": null,
   "metadata": {},
   "outputs": [],
   "source": [
    "nm = pd.read_csv('raw/pennsylvania-00001.csv')"
   ]
  },
  {
   "cell_type": "code",
   "execution_count": null,
   "metadata": {},
   "outputs": [],
   "source": [
    "nm['Key Value'] = nm.apply(lambda x: (str(x['firstName']) + ' ' + str(x['lastName']) + ' ' + str('PA')).lower(), axis= 1)"
   ]
  },
  {
   "cell_type": "code",
   "execution_count": null,
   "metadata": {},
   "outputs": [],
   "source": [
    "import re\n",
    "\n",
    "def ngrams(string, n=3):\n",
    "    string = re.sub(r'[,-./]|\\sBD',r'', string)\n",
    "    ngrams = zip(*[string[i:] for i in range(n)])\n",
    "    return [''.join(ngram) for ngram in ngrams]"
   ]
  },
  {
   "cell_type": "code",
   "execution_count": null,
   "metadata": {},
   "outputs": [],
   "source": [
    "from sklearn.feature_extraction.text import TfidfVectorizer\n",
    "\n",
    "vectorizer = TfidfVectorizer(min_df=1, analyzer=ngrams)\n",
    "combined_list = nm['Key Value'].tolist() + gt['Key Value'].tolist()\n",
    "vectorizer.fit(nm['Key Value'].tolist() + gt['Key Value'].tolist())\n",
    "\n",
    "nm_tfidf = nm['Key Value'].tolist()\n",
    "nm_tfidf = vectorizer.transform(nm_tfidf)\n",
    "\n",
    "gt_tfidf = gt['Key Value']\n",
    "gt_tfidf = vectorizer.transform(gt_tfidf)"
   ]
  },
  {
   "cell_type": "code",
   "execution_count": null,
   "metadata": {},
   "outputs": [],
   "source": [
    "nm_tfidf.shape"
   ]
  },
  {
   "cell_type": "code",
   "execution_count": null,
   "metadata": {},
   "outputs": [],
   "source": [
    "#gt meaning ground truth or reference table\n",
    "\n",
    "gt_tfidf.shape"
   ]
  },
  {
   "cell_type": "code",
   "execution_count": null,
   "metadata": {},
   "outputs": [],
   "source": [
    "126060 * 1029533"
   ]
  },
  {
   "cell_type": "code",
   "execution_count": null,
   "metadata": {},
   "outputs": [],
   "source": [
    "matches = awesome_cossim_topn(nm_tfidf, gt_tfidf.transpose(), 10, 0.8, use_threads=True, n_jobs=6)"
   ]
  },
  {
   "cell_type": "code",
   "execution_count": null,
   "metadata": {},
   "outputs": [],
   "source": [
    "def get_matches_df(sparse_matrix, name_vector, top=100):\n",
    "    non_zeros = sparse_matrix.nonzero()\n",
    "    \n",
    "    sparserows = non_zeros[0]\n",
    "    sparsecols = non_zeros[1]\n",
    "    \n",
    "    if top:\n",
    "        nr_matches = top\n",
    "    else:\n",
    "        nr_matches = sparsecols.size\n",
    "\n",
    "    left_side = np.empty([nr_matches], dtype=object)\n",
    "    index_value = np.empty([nr_matches], dtype=object)\n",
    "    right_side = np.empty([nr_matches], dtype=object)\n",
    "    contact_id = np.empty([nr_matches], dtype=object)\n",
    "    similairity = np.zeros(nr_matches)\n",
    "    \n",
    "    for index in range(0, nr_matches):\n",
    "        left_side[index] = nm.loc[sparserows[index], 'Key Value']\n",
    "        index_value[index] = sparserows[index]\n",
    "        right_side[index] = gt.loc[sparsecols[index], 'Key Value']\n",
    "        contact_id[index] = gt.loc[sparsecols[index], 'Salesforce Contact Id']\n",
    "        similairity[index] = sparse_matrix.data[index]\n",
    "    \n",
    "    return pd.DataFrame({'index':index_value,\n",
    "                          'left_side': left_side,\n",
    "                          'right_side': right_side,\n",
    "                          'Contact ID':contact_id, \n",
    "                           'similairity': similairity})"
   ]
  },
  {
   "cell_type": "code",
   "execution_count": null,
   "metadata": {},
   "outputs": [],
   "source": [
    "matches_df = get_matches_df(matches, combined_list, top=100000)\n",
    "matches_df = matches_df[matches_df['similairity'] < 0.99999] # Remove all exact matches\n",
    "# matches_df.sample(10)\n"
   ]
  },
  {
   "cell_type": "code",
   "execution_count": null,
   "metadata": {},
   "outputs": [],
   "source": [
    "matches_df.to_csv('result.csv', index=False)"
   ]
  },
  {
   "cell_type": "code",
   "execution_count": null,
   "metadata": {},
   "outputs": [],
   "source": [
    "matches_df.sort_values(by=['similairity'], ascending= False)"
   ]
  },
  {
   "cell_type": "code",
   "execution_count": null,
   "metadata": {},
   "outputs": [],
   "source": []
  }
 ],
 "metadata": {
  "kernelspec": {
   "display_name": "Python 3.9.6 ('deduping_module': venv)",
   "language": "python",
   "name": "python3"
  },
  "language_info": {
   "codemirror_mode": {
    "name": "ipython",
    "version": 3
   },
   "file_extension": ".py",
   "mimetype": "text/x-python",
   "name": "python",
   "nbconvert_exporter": "python",
   "pygments_lexer": "ipython3",
   "version": "3.9.6"
  },
  "orig_nbformat": 4,
  "vscode": {
   "interpreter": {
    "hash": "2e225cfe216627fae7dc2c853df172ac15d28a1465a05246723879496bb2e5ae"
   }
  }
 },
 "nbformat": 4,
 "nbformat_minor": 2
}
