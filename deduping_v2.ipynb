{
 "cells": [
  {
   "cell_type": "code",
   "execution_count": 1,
   "metadata": {},
   "outputs": [],
   "source": [
    "import pandas as pd\n",
    "import numpy as np\n",
    "from scipy.sparse import csr_matrix\n",
    "from sparse_dot_topn import awesome_cossim_topn \n",
    "import re\n",
    "\n",
    "from sklearn.feature_extraction.text import TfidfVectorizer"
   ]
  },
  {
   "cell_type": "code",
   "execution_count": 2,
   "metadata": {},
   "outputs": [],
   "source": [
    "gt = pd.read_csv('raw/sf_export.csv')\n",
    "gt.dropna(subset=['Salesforce Contact Id'], inplace= True)\n",
    "gt.drop_duplicates(subset=['Salesforce Account Id'], inplace= True)\n",
    "gt['Key Value'] = gt.apply(lambda x: (str(x['Account Name'])+ ' ' + str(x['State 1'])).lower(), axis= 1)\n",
    "gt.reset_index(drop=True, inplace=True)"
   ]
  },
  {
   "cell_type": "code",
   "execution_count": 4,
   "metadata": {},
   "outputs": [],
   "source": [
    "nm = pd.read_csv('raw/pennsylvania-00001.csv')"
   ]
  },
  {
   "cell_type": "code",
   "execution_count": 5,
   "metadata": {},
   "outputs": [],
   "source": [
    "nm['Key Value'] = nm.apply(lambda x: (str(x['firstName']) + ' ' + str(x['lastName']) + ' ' + str('PA')).lower(), axis= 1)"
   ]
  },
  {
   "cell_type": "code",
   "execution_count": 6,
   "metadata": {},
   "outputs": [],
   "source": [
    "import re\n",
    "\n",
    "def ngrams(string, n=3):\n",
    "    string = re.sub(r'[,-./]|\\sBD',r'', string)\n",
    "    ngrams = zip(*[string[i:] for i in range(n)])\n",
    "    return [''.join(ngram) for ngram in ngrams]"
   ]
  },
  {
   "cell_type": "code",
   "execution_count": 7,
   "metadata": {},
   "outputs": [],
   "source": [
    "from sklearn.feature_extraction.text import TfidfVectorizer\n",
    "\n",
    "vectorizer = TfidfVectorizer(min_df=1, analyzer=ngrams)\n",
    "combined_list = nm['Key Value'].tolist() + gt['Key Value'].tolist()\n",
    "vectorizer.fit(nm['Key Value'].tolist() + gt['Key Value'].tolist())\n",
    "\n",
    "nm_tfidf = nm['Key Value'].tolist()\n",
    "nm_tfidf = vectorizer.transform(nm_tfidf)\n",
    "\n",
    "gt_tfidf = gt['Key Value']\n",
    "gt_tfidf = vectorizer.transform(gt_tfidf)"
   ]
  },
  {
   "cell_type": "code",
   "execution_count": 8,
   "metadata": {},
   "outputs": [
    {
     "data": {
      "text/plain": [
       "(126060, 14956)"
      ]
     },
     "execution_count": 8,
     "metadata": {},
     "output_type": "execute_result"
    }
   ],
   "source": [
    "nm_tfidf.shape"
   ]
  },
  {
   "cell_type": "code",
   "execution_count": 9,
   "metadata": {},
   "outputs": [
    {
     "data": {
      "text/plain": [
       "(1029533, 14956)"
      ]
     },
     "execution_count": 9,
     "metadata": {},
     "output_type": "execute_result"
    }
   ],
   "source": [
    "#gt meaning ground truth or reference table\n",
    "\n",
    "gt_tfidf.shape"
   ]
  },
  {
   "cell_type": "code",
   "execution_count": 26,
   "metadata": {},
   "outputs": [
    {
     "data": {
      "text/plain": [
       "129782929980"
      ]
     },
     "execution_count": 26,
     "metadata": {},
     "output_type": "execute_result"
    }
   ],
   "source": [
    "126060 * 1029533"
   ]
  },
  {
   "cell_type": "code",
   "execution_count": 10,
   "metadata": {},
   "outputs": [],
   "source": [
    "matches = awesome_cossim_topn(nm_tfidf, gt_tfidf.transpose(), 10, 0.8, use_threads=True, n_jobs=6)"
   ]
  },
  {
   "cell_type": "code",
   "execution_count": 17,
   "metadata": {},
   "outputs": [],
   "source": [
    "def get_matches_df(sparse_matrix, name_vector, top=100):\n",
    "    non_zeros = sparse_matrix.nonzero()\n",
    "    \n",
    "    sparserows = non_zeros[0]\n",
    "    sparsecols = non_zeros[1]\n",
    "    \n",
    "    if top:\n",
    "        nr_matches = top\n",
    "    else:\n",
    "        nr_matches = sparsecols.size\n",
    "\n",
    "    left_side = np.empty([nr_matches], dtype=object)\n",
    "    index_value = np.empty([nr_matches], dtype=object)\n",
    "    right_side = np.empty([nr_matches], dtype=object)\n",
    "    contact_id = np.empty([nr_matches], dtype=object)\n",
    "    similairity = np.zeros(nr_matches)\n",
    "    \n",
    "    for index in range(0, nr_matches):\n",
    "        left_side[index] = nm.loc[sparserows[index], 'Key Value']\n",
    "        index_value[index] = sparserows[index]\n",
    "        right_side[index] = gt.loc[sparsecols[index], 'Key Value']\n",
    "        contact_id[index] = gt.loc[sparsecols[index], 'Salesforce Contact Id']\n",
    "        similairity[index] = sparse_matrix.data[index]\n",
    "    \n",
    "    return pd.DataFrame({'index':index_value,\n",
    "                          'left_side': left_side,\n",
    "                          'right_side': right_side,\n",
    "                          'Contact ID':contact_id, \n",
    "                           'similairity': similairity})"
   ]
  },
  {
   "cell_type": "code",
   "execution_count": 18,
   "metadata": {},
   "outputs": [],
   "source": [
    "matches_df = get_matches_df(matches, combined_list, top=100000)\n",
    "matches_df = matches_df[matches_df['similairity'] < 0.99999] # Remove all exact matches\n",
    "# matches_df.sample(10)\n"
   ]
  },
  {
   "cell_type": "code",
   "execution_count": 20,
   "metadata": {},
   "outputs": [],
   "source": [
    "matches_df.to_csv('result.csv', index=False)"
   ]
  },
  {
   "cell_type": "code",
   "execution_count": 25,
   "metadata": {},
   "outputs": [
    {
     "data": {
      "text/html": [
       "<div>\n",
       "<style scoped>\n",
       "    .dataframe tbody tr th:only-of-type {\n",
       "        vertical-align: middle;\n",
       "    }\n",
       "\n",
       "    .dataframe tbody tr th {\n",
       "        vertical-align: top;\n",
       "    }\n",
       "\n",
       "    .dataframe thead th {\n",
       "        text-align: right;\n",
       "    }\n",
       "</style>\n",
       "<table border=\"1\" class=\"dataframe\">\n",
       "  <thead>\n",
       "    <tr style=\"text-align: right;\">\n",
       "      <th></th>\n",
       "      <th>index</th>\n",
       "      <th>left_side</th>\n",
       "      <th>right_side</th>\n",
       "      <th>Contact ID</th>\n",
       "      <th>similairity</th>\n",
       "    </tr>\n",
       "  </thead>\n",
       "  <tbody>\n",
       "    <tr>\n",
       "      <th>21316</th>\n",
       "      <td>13079</td>\n",
       "      <td>nydia diaz-buxo pa</td>\n",
       "      <td>nydia diaz-buxo pr</td>\n",
       "      <td>0033000000HYn2IAAT</td>\n",
       "      <td>0.981257</td>\n",
       "    </tr>\n",
       "    <tr>\n",
       "      <th>11573</th>\n",
       "      <td>7342</td>\n",
       "      <td>marlene bell pa</td>\n",
       "      <td>arlene bell pa</td>\n",
       "      <td>0036000001T2jTGAAZ</td>\n",
       "      <td>0.974377</td>\n",
       "    </tr>\n",
       "    <tr>\n",
       "      <th>36675</th>\n",
       "      <td>23547</td>\n",
       "      <td>mehrdad barikbin pa</td>\n",
       "      <td>mehrdad barikbin ca</td>\n",
       "      <td>0036000001SNpHOAA1</td>\n",
       "      <td>0.973979</td>\n",
       "    </tr>\n",
       "    <tr>\n",
       "      <th>95278</th>\n",
       "      <td>60215</td>\n",
       "      <td>francisco troncoso pa</td>\n",
       "      <td>francisco troncoso pr</td>\n",
       "      <td>0033000000HXjUlAAL</td>\n",
       "      <td>0.972968</td>\n",
       "    </tr>\n",
       "    <tr>\n",
       "      <th>11142</th>\n",
       "      <td>7055</td>\n",
       "      <td>lizabeth brown pa</td>\n",
       "      <td>elizabeth brown pa</td>\n",
       "      <td>0034y00002ZjdKFAAZ</td>\n",
       "      <td>0.972474</td>\n",
       "    </tr>\n",
       "    <tr>\n",
       "      <th>...</th>\n",
       "      <td>...</td>\n",
       "      <td>...</td>\n",
       "      <td>...</td>\n",
       "      <td>...</td>\n",
       "      <td>...</td>\n",
       "    </tr>\n",
       "    <tr>\n",
       "      <th>70221</th>\n",
       "      <td>47341</td>\n",
       "      <td>allen levin pa</td>\n",
       "      <td>allen levine ny</td>\n",
       "      <td>0033000000HYmvxAAD</td>\n",
       "      <td>0.800007</td>\n",
       "    </tr>\n",
       "    <tr>\n",
       "      <th>86816</th>\n",
       "      <td>56077</td>\n",
       "      <td>allen levin pa</td>\n",
       "      <td>allen levine ny</td>\n",
       "      <td>0033000000HYmvxAAD</td>\n",
       "      <td>0.800007</td>\n",
       "    </tr>\n",
       "    <tr>\n",
       "      <th>18115</th>\n",
       "      <td>11445</td>\n",
       "      <td>william cherry pa</td>\n",
       "      <td>william cherry jr ca</td>\n",
       "      <td>0036000001TVaL2AAL</td>\n",
       "      <td>0.800005</td>\n",
       "    </tr>\n",
       "    <tr>\n",
       "      <th>78375</th>\n",
       "      <td>51513</td>\n",
       "      <td>james wallace pa</td>\n",
       "      <td>james wallace jr. tx</td>\n",
       "      <td>0036000001SOEtLAAX</td>\n",
       "      <td>0.800004</td>\n",
       "    </tr>\n",
       "    <tr>\n",
       "      <th>28058</th>\n",
       "      <td>17392</td>\n",
       "      <td>derek crawford pa</td>\n",
       "      <td>s crawford pa</td>\n",
       "      <td>0033000000HYHqOAAX</td>\n",
       "      <td>0.800004</td>\n",
       "    </tr>\n",
       "  </tbody>\n",
       "</table>\n",
       "<p>85624 rows × 5 columns</p>\n",
       "</div>"
      ],
      "text/plain": [
       "       index              left_side             right_side  \\\n",
       "21316  13079     nydia diaz-buxo pa     nydia diaz-buxo pr   \n",
       "11573   7342        marlene bell pa         arlene bell pa   \n",
       "36675  23547    mehrdad barikbin pa    mehrdad barikbin ca   \n",
       "95278  60215  francisco troncoso pa  francisco troncoso pr   \n",
       "11142   7055      lizabeth brown pa     elizabeth brown pa   \n",
       "...      ...                    ...                    ...   \n",
       "70221  47341         allen levin pa        allen levine ny   \n",
       "86816  56077         allen levin pa        allen levine ny   \n",
       "18115  11445      william cherry pa   william cherry jr ca   \n",
       "78375  51513       james wallace pa   james wallace jr. tx   \n",
       "28058  17392      derek crawford pa          s crawford pa   \n",
       "\n",
       "               Contact ID  similairity  \n",
       "21316  0033000000HYn2IAAT     0.981257  \n",
       "11573  0036000001T2jTGAAZ     0.974377  \n",
       "36675  0036000001SNpHOAA1     0.973979  \n",
       "95278  0033000000HXjUlAAL     0.972968  \n",
       "11142  0034y00002ZjdKFAAZ     0.972474  \n",
       "...                   ...          ...  \n",
       "70221  0033000000HYmvxAAD     0.800007  \n",
       "86816  0033000000HYmvxAAD     0.800007  \n",
       "18115  0036000001TVaL2AAL     0.800005  \n",
       "78375  0036000001SOEtLAAX     0.800004  \n",
       "28058  0033000000HYHqOAAX     0.800004  \n",
       "\n",
       "[85624 rows x 5 columns]"
      ]
     },
     "execution_count": 25,
     "metadata": {},
     "output_type": "execute_result"
    }
   ],
   "source": [
    "matches_df.sort_values(by=['similairity'], ascending= False)"
   ]
  },
  {
   "cell_type": "code",
   "execution_count": null,
   "metadata": {},
   "outputs": [],
   "source": []
  }
 ],
 "metadata": {
  "kernelspec": {
   "display_name": "Python 3.8.8 ('base')",
   "language": "python",
   "name": "python3"
  },
  "language_info": {
   "codemirror_mode": {
    "name": "ipython",
    "version": 3
   },
   "file_extension": ".py",
   "mimetype": "text/x-python",
   "name": "python",
   "nbconvert_exporter": "python",
   "pygments_lexer": "ipython3",
   "version": "3.8.8"
  },
  "orig_nbformat": 4,
  "vscode": {
   "interpreter": {
    "hash": "ad2bdc8ecc057115af97d19610ffacc2b4e99fae6737bb82f5d7fb13d2f2c186"
   }
  }
 },
 "nbformat": 4,
 "nbformat_minor": 2
}
