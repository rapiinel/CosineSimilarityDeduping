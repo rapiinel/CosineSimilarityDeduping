{
 "cells": [
  {
   "cell_type": "code",
   "execution_count": 1,
   "metadata": {},
   "outputs": [],
   "source": [
    "import pandas as pd\n",
    "import numpy as np\n",
    "from scipy.sparse import csr_matrix\n",
    "from sparse_dot_topn import awesome_cossim_topn \n",
    "import re\n",
    "\n",
    "from sklearn.feature_extraction.text import TfidfVectorizer\n",
    "from deduping_module import deduping_class"
   ]
  },
  {
   "cell_type": "code",
   "execution_count": 2,
   "metadata": {},
   "outputs": [],
   "source": [
    "link = r'C:\\Users\\USER\\Documents\\LM_project\\SAL-230_Revisit validity'\n",
    "gt = pd.read_csv(link + '\\\\raw\\sf_export.csv', encoding='latin-1')\n",
    "nm = pd.read_csv(link + '\\\\raw\\pennsylvania-00001.csv', encoding='latin-1')"
   ]
  },
  {
   "cell_type": "code",
   "execution_count": 3,
   "metadata": {},
   "outputs": [
    {
     "data": {
      "text/html": [
       "<div>\n",
       "<style scoped>\n",
       "    .dataframe tbody tr th:only-of-type {\n",
       "        vertical-align: middle;\n",
       "    }\n",
       "\n",
       "    .dataframe tbody tr th {\n",
       "        vertical-align: top;\n",
       "    }\n",
       "\n",
       "    .dataframe thead th {\n",
       "        text-align: right;\n",
       "    }\n",
       "</style>\n",
       "<table border=\"1\" class=\"dataframe\">\n",
       "  <thead>\n",
       "    <tr style=\"text-align: right;\">\n",
       "      <th></th>\n",
       "      <th>Salesforce Account Id</th>\n",
       "      <th>Salesforce Contact Id</th>\n",
       "      <th>Account Name</th>\n",
       "      <th>First Name</th>\n",
       "      <th>Last Name</th>\n",
       "      <th>Email</th>\n",
       "      <th>Phone</th>\n",
       "      <th>Zip Code 1</th>\n",
       "      <th>County 1</th>\n",
       "      <th>State 1</th>\n",
       "      <th>Quarantine</th>\n",
       "    </tr>\n",
       "  </thead>\n",
       "  <tbody>\n",
       "    <tr>\n",
       "      <th>0</th>\n",
       "      <td>0014y00002LvzGCAAZ</td>\n",
       "      <td>0034y00002QqcZtAAJ</td>\n",
       "      <td>Melcher Law</td>\n",
       "      <td>Doug</td>\n",
       "      <td>Melcher</td>\n",
       "      <td>NaN</td>\n",
       "      <td>(617) 485-0859</td>\n",
       "      <td>NaN</td>\n",
       "      <td>NaN</td>\n",
       "      <td>NaN</td>\n",
       "      <td>0.0</td>\n",
       "    </tr>\n",
       "    <tr>\n",
       "      <th>1</th>\n",
       "      <td>0014y00002aVU9TAAW</td>\n",
       "      <td>0034y00002ZjWOiAAN</td>\n",
       "      <td>Kevin Barnett</td>\n",
       "      <td>Kevin</td>\n",
       "      <td>Barnett</td>\n",
       "      <td>kb@barnettfalls.com</td>\n",
       "      <td>NaN</td>\n",
       "      <td>NaN</td>\n",
       "      <td>NaN</td>\n",
       "      <td>NC</td>\n",
       "      <td>0.0</td>\n",
       "    </tr>\n",
       "    <tr>\n",
       "      <th>2</th>\n",
       "      <td>0014y00002aVjVkAAK</td>\n",
       "      <td>0034y00002ZjlorAAB</td>\n",
       "      <td>Kellie Jenkins Hohenshelt</td>\n",
       "      <td>Kellie Jenkins</td>\n",
       "      <td>Hohenshelt</td>\n",
       "      <td>NaN</td>\n",
       "      <td>(214) 587-7044</td>\n",
       "      <td>NaN</td>\n",
       "      <td>NaN</td>\n",
       "      <td>TX</td>\n",
       "      <td>0.0</td>\n",
       "    </tr>\n",
       "    <tr>\n",
       "      <th>3</th>\n",
       "      <td>0014y00002aVbeeAAC</td>\n",
       "      <td>0034y00002ZjdxQAAR</td>\n",
       "      <td>Jackalynne Fletcher</td>\n",
       "      <td>Jackalynne</td>\n",
       "      <td>Fletcher</td>\n",
       "      <td>NaN</td>\n",
       "      <td>(614) 487-8283</td>\n",
       "      <td>NaN</td>\n",
       "      <td>NaN</td>\n",
       "      <td>OH</td>\n",
       "      <td>0.0</td>\n",
       "    </tr>\n",
       "    <tr>\n",
       "      <th>4</th>\n",
       "      <td>0014y00002aVn5XAAS</td>\n",
       "      <td>0034y00002ZjpOtAAJ</td>\n",
       "      <td>Timothy Blair</td>\n",
       "      <td>Timothy</td>\n",
       "      <td>Blair</td>\n",
       "      <td>NaN</td>\n",
       "      <td>(713) 818-8474</td>\n",
       "      <td>NaN</td>\n",
       "      <td>NaN</td>\n",
       "      <td>TX</td>\n",
       "      <td>0.0</td>\n",
       "    </tr>\n",
       "    <tr>\n",
       "      <th>...</th>\n",
       "      <td>...</td>\n",
       "      <td>...</td>\n",
       "      <td>...</td>\n",
       "      <td>...</td>\n",
       "      <td>...</td>\n",
       "      <td>...</td>\n",
       "      <td>...</td>\n",
       "      <td>...</td>\n",
       "      <td>...</td>\n",
       "      <td>...</td>\n",
       "      <td>...</td>\n",
       "    </tr>\n",
       "    <tr>\n",
       "      <th>1537649</th>\n",
       "      <td>All contacts and account</td>\n",
       "      <td>NaN</td>\n",
       "      <td>NaN</td>\n",
       "      <td>NaN</td>\n",
       "      <td>NaN</td>\n",
       "      <td>NaN</td>\n",
       "      <td>NaN</td>\n",
       "      <td>NaN</td>\n",
       "      <td>NaN</td>\n",
       "      <td>NaN</td>\n",
       "      <td>NaN</td>\n",
       "    </tr>\n",
       "    <tr>\n",
       "      <th>1537650</th>\n",
       "      <td>Copyright (c) 2000-2022 salesforce.com, inc. A...</td>\n",
       "      <td>NaN</td>\n",
       "      <td>NaN</td>\n",
       "      <td>NaN</td>\n",
       "      <td>NaN</td>\n",
       "      <td>NaN</td>\n",
       "      <td>NaN</td>\n",
       "      <td>NaN</td>\n",
       "      <td>NaN</td>\n",
       "      <td>NaN</td>\n",
       "      <td>NaN</td>\n",
       "    </tr>\n",
       "    <tr>\n",
       "      <th>1537651</th>\n",
       "      <td>Confidential Information - Do Not Distribute</td>\n",
       "      <td>NaN</td>\n",
       "      <td>NaN</td>\n",
       "      <td>NaN</td>\n",
       "      <td>NaN</td>\n",
       "      <td>NaN</td>\n",
       "      <td>NaN</td>\n",
       "      <td>NaN</td>\n",
       "      <td>NaN</td>\n",
       "      <td>NaN</td>\n",
       "      <td>NaN</td>\n",
       "    </tr>\n",
       "    <tr>\n",
       "      <th>1537652</th>\n",
       "      <td>Generated By:  Raffie Navaluna  8/30/2022 9:22 AM</td>\n",
       "      <td>NaN</td>\n",
       "      <td>NaN</td>\n",
       "      <td>NaN</td>\n",
       "      <td>NaN</td>\n",
       "      <td>NaN</td>\n",
       "      <td>NaN</td>\n",
       "      <td>NaN</td>\n",
       "      <td>NaN</td>\n",
       "      <td>NaN</td>\n",
       "      <td>NaN</td>\n",
       "    </tr>\n",
       "    <tr>\n",
       "      <th>1537653</th>\n",
       "      <td>LegalMatch.com</td>\n",
       "      <td>NaN</td>\n",
       "      <td>NaN</td>\n",
       "      <td>NaN</td>\n",
       "      <td>NaN</td>\n",
       "      <td>NaN</td>\n",
       "      <td>NaN</td>\n",
       "      <td>NaN</td>\n",
       "      <td>NaN</td>\n",
       "      <td>NaN</td>\n",
       "      <td>NaN</td>\n",
       "    </tr>\n",
       "  </tbody>\n",
       "</table>\n",
       "<p>1537654 rows × 11 columns</p>\n",
       "</div>"
      ],
      "text/plain": [
       "                                     Salesforce Account Id  \\\n",
       "0                                       0014y00002LvzGCAAZ   \n",
       "1                                       0014y00002aVU9TAAW   \n",
       "2                                       0014y00002aVjVkAAK   \n",
       "3                                       0014y00002aVbeeAAC   \n",
       "4                                       0014y00002aVn5XAAS   \n",
       "...                                                    ...   \n",
       "1537649                           All contacts and account   \n",
       "1537650  Copyright (c) 2000-2022 salesforce.com, inc. A...   \n",
       "1537651       Confidential Information - Do Not Distribute   \n",
       "1537652  Generated By:  Raffie Navaluna  8/30/2022 9:22 AM   \n",
       "1537653                                     LegalMatch.com   \n",
       "\n",
       "        Salesforce Contact Id               Account Name      First Name  \\\n",
       "0          0034y00002QqcZtAAJ                Melcher Law            Doug   \n",
       "1          0034y00002ZjWOiAAN              Kevin Barnett           Kevin   \n",
       "2          0034y00002ZjlorAAB  Kellie Jenkins Hohenshelt  Kellie Jenkins   \n",
       "3          0034y00002ZjdxQAAR        Jackalynne Fletcher      Jackalynne   \n",
       "4          0034y00002ZjpOtAAJ              Timothy Blair         Timothy   \n",
       "...                       ...                        ...             ...   \n",
       "1537649                   NaN                        NaN             NaN   \n",
       "1537650                   NaN                        NaN             NaN   \n",
       "1537651                   NaN                        NaN             NaN   \n",
       "1537652                   NaN                        NaN             NaN   \n",
       "1537653                   NaN                        NaN             NaN   \n",
       "\n",
       "          Last Name                Email           Phone Zip Code 1 County 1  \\\n",
       "0           Melcher                  NaN  (617) 485-0859        NaN      NaN   \n",
       "1           Barnett  kb@barnettfalls.com             NaN        NaN      NaN   \n",
       "2        Hohenshelt                  NaN  (214) 587-7044        NaN      NaN   \n",
       "3          Fletcher                  NaN  (614) 487-8283        NaN      NaN   \n",
       "4             Blair                  NaN  (713) 818-8474        NaN      NaN   \n",
       "...             ...                  ...             ...        ...      ...   \n",
       "1537649         NaN                  NaN             NaN        NaN      NaN   \n",
       "1537650         NaN                  NaN             NaN        NaN      NaN   \n",
       "1537651         NaN                  NaN             NaN        NaN      NaN   \n",
       "1537652         NaN                  NaN             NaN        NaN      NaN   \n",
       "1537653         NaN                  NaN             NaN        NaN      NaN   \n",
       "\n",
       "        State 1  Quarantine  \n",
       "0           NaN         0.0  \n",
       "1            NC         0.0  \n",
       "2            TX         0.0  \n",
       "3            OH         0.0  \n",
       "4            TX         0.0  \n",
       "...         ...         ...  \n",
       "1537649     NaN         NaN  \n",
       "1537650     NaN         NaN  \n",
       "1537651     NaN         NaN  \n",
       "1537652     NaN         NaN  \n",
       "1537653     NaN         NaN  \n",
       "\n",
       "[1537654 rows x 11 columns]"
      ]
     },
     "execution_count": 3,
     "metadata": {},
     "output_type": "execute_result"
    }
   ],
   "source": [
    "gt"
   ]
  },
  {
   "cell_type": "code",
   "execution_count": null,
   "metadata": {},
   "outputs": [],
   "source": [
    "gt.dropna(subset= ['Salesforce Contact Id'], inplace= True)\n",
    "gt.drop_duplicates(subset=['Salesforce Account Id'], inplace= True) # need to remove the duplicates in the salesforce account id if we dedupe on the account object\n",
    "gt.reset_index(drop=True, inplace= True) #always make sure that the index of the inputs are in numerical order or this will cause errors in getting the matches\n",
    "gt.info()"
   ]
  },
  {
   "cell_type": "markdown",
   "metadata": {},
   "source": [
    "Note:\n",
    "1. the footer on the ground truth file should always be dropped"
   ]
  },
  {
   "cell_type": "code",
   "execution_count": null,
   "metadata": {},
   "outputs": [],
   "source": [
    "# initializing the module\n",
    "deduping = deduping_class(gt) "
   ]
  },
  {
   "cell_type": "code",
   "execution_count": null,
   "metadata": {},
   "outputs": [],
   "source": [
    "deduping.ground_truth.head()"
   ]
  },
  {
   "cell_type": "markdown",
   "metadata": {},
   "source": [
    "#### Step 1:\n",
    "1. Make sure that the ground truth columns are similar with the dataframe to be matched"
   ]
  },
  {
   "cell_type": "code",
   "execution_count": null,
   "metadata": {},
   "outputs": [],
   "source": [
    "# matching the ground truth columns with the to match dataframe\n",
    "nm.rename(columns={'firstName':'First Name', 'lastName':'Last Name', 'email':'Email', 'phone':'Phone', 'zip':'Zip Code 1'}, inplace= True)"
   ]
  },
  {
   "cell_type": "code",
   "execution_count": null,
   "metadata": {},
   "outputs": [],
   "source": [
    "nm.head(3)"
   ]
  },
  {
   "cell_type": "markdown",
   "metadata": {},
   "source": [
    "#### Step 2\n",
    "Now that the columns are matched, we can use the key_selector function. \\\n",
    "This takes 2 inputs, *args and \"data=dataframe to be matched\"\\\n",
    "This function will return the to be matched dataframe with primary_key value while also adding it in the ground truth but only in the backend"
   ]
  },
  {
   "cell_type": "code",
   "execution_count": null,
   "metadata": {},
   "outputs": [],
   "source": [
    "deduping.key_selector('First Name', 'Last Name', 'Phone', data= nm)"
   ]
  },
  {
   "cell_type": "code",
   "execution_count": null,
   "metadata": {},
   "outputs": [],
   "source": [
    "deduping.nm['state'] = deduping.nm.apply(lambda x: deduping.state_abbrev(x['state']), axis= 1)"
   ]
  },
  {
   "cell_type": "markdown",
   "metadata": {},
   "source": [
    "#### Optional Step\n",
    "We can set an optional paramater called ngrams, this means the number of combination the txt will be divided. \\\n",
    "if this is not set, it will automatically equal to 3"
   ]
  },
  {
   "cell_type": "code",
   "execution_count": null,
   "metadata": {},
   "outputs": [],
   "source": [
    "deduping.set_ngrams(4)"
   ]
  },
  {
   "cell_type": "markdown",
   "metadata": {},
   "source": [
    "#### Step 3\n",
    "This function will convert the ground truth and dataframe to be matched in to tfidf sparse matrix \\\n",
    "the input to this function should be the dataframe with the primarykey \\\n",
    "the results will now be included in the class module\n",
    "\n",
    "self.nm_tfidf\\\n",
    "self.gt_tfidf"
   ]
  },
  {
   "cell_type": "code",
   "execution_count": null,
   "metadata": {},
   "outputs": [],
   "source": [
    "deduping.vectorizer()"
   ]
  },
  {
   "cell_type": "markdown",
   "metadata": {},
   "source": [
    "#### Step 4\n",
    "This function will get compare the similarities in the 2 dataframe and save the output in self.match"
   ]
  },
  {
   "cell_type": "code",
   "execution_count": null,
   "metadata": {},
   "outputs": [],
   "source": [
    "deduping.get_match(2000)"
   ]
  },
  {
   "cell_type": "code",
   "execution_count": null,
   "metadata": {},
   "outputs": [],
   "source": [
    "deduping.matched"
   ]
  },
  {
   "cell_type": "markdown",
   "metadata": {},
   "source": [
    "#### Notes:\n",
    "1. If deduping at account object, always remember to remove the duplicates in the Salesforce Account Id\n",
    "1. always make sure that the index of the inputs are in numerical order or this will cause errors in getting the matches\n",
    "1. if a selected key value is missing, it has a significant impact on the performance"
   ]
  }
 ],
 "metadata": {
  "kernelspec": {
   "display_name": "Python 3.9.6 64-bit",
   "language": "python",
   "name": "python3"
  },
  "language_info": {
   "codemirror_mode": {
    "name": "ipython",
    "version": 3
   },
   "file_extension": ".py",
   "mimetype": "text/x-python",
   "name": "python",
   "nbconvert_exporter": "python",
   "pygments_lexer": "ipython3",
   "version": "3.9.6"
  },
  "orig_nbformat": 4,
  "vscode": {
   "interpreter": {
    "hash": "1d5c1156327dacead463cc502c55ebae8ce9c8c01979cf154173ff808e75bf55"
   }
  }
 },
 "nbformat": 4,
 "nbformat_minor": 2
}
